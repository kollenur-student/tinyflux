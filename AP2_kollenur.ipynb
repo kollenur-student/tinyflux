{
 "cells": [
  {
   "cell_type": "markdown",
   "id": "b5139e87",
   "metadata": {},
   "source": [
    "#### <b>1.) Python Libraries und Settings importieren:</b>"
   ]
  },
  {
   "cell_type": "code",
   "execution_count": 1,
   "id": "be6e32ff",
   "metadata": {},
   "outputs": [],
   "source": [
    "# Libraries\n",
    "import pandas as pd\n",
    "import csv\n",
    "from tinyflux import TinyFlux, Point, FieldQuery, TagQuery, TimeQuery\n",
    "from datetime import datetime, timezone, timedelta\n",
    "\n",
    "# Settings\n",
    "import warnings\n",
    "warnings.filterwarnings(\"ignore\")\n",
    "\n",
    "# Abkürzungen für Query-Typen\n",
    "time = TimeQuery()\n",
    "tags = TagQuery()\n",
    "field = FieldQuery()"
   ]
  },
  {
   "cell_type": "markdown",
   "id": "09cd6292",
   "metadata": {},
   "source": [
    "#### <b>2.) Funktion für die Erstellung eines Dataframes aus Query-Resultaten in den Arbeitsspeicher laden:</b>"
   ]
  },
  {
   "cell_type": "code",
   "execution_count": 2,
   "id": "8ab3f917",
   "metadata": {},
   "outputs": [],
   "source": [
    "# Define the function to transform the list of Point objects into a DataFrame\n",
    "def points_to_dataframe(points_list):\n",
    "    data = []\n",
    "    \n",
    "    # Extract the relevant information\n",
    "    for point in points_list:\n",
    "        data.append({\n",
    "            \"time\": point.time,  # Access time attribute\n",
    "            \"sender_id\": point.tags['sender_id'],  # Access sender_id from tags dictionary\n",
    "            \"receiver_id\": point.tags['receiver_id'],  # Access receiver_id from tags dictionary\n",
    "            \"status\": point.tags['status'],  # Access status from tags dictionary\n",
    "            \"amount\": point.fields['amount'],  # Access amount from fields dictionary\n",
    "            \"fee\": point.fields['fee']  # Access fee from fields dictionary\n",
    "        })\n",
    "\n",
    "    # Create a DataFrame\n",
    "    df = pd.DataFrame(data)\n",
    "\n",
    "    # Convert time to datetime\n",
    "    df['time'] = pd.to_datetime(df['time'])\n",
    "\n",
    "    return df"
   ]
  }
 ],
 "metadata": {
  "kernelspec": {
   "display_name": "Python 3",
   "language": "python",
   "name": "python3"
  },
  "language_info": {
   "codemirror_mode": {
    "name": "ipython",
    "version": 3
   },
   "file_extension": ".py",
   "mimetype": "text/x-python",
   "name": "python",
   "nbconvert_exporter": "python",
   "pygments_lexer": "ipython3",
   "version": "3.12.1"
  }
 },
 "nbformat": 4,
 "nbformat_minor": 5
}
